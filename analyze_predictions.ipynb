{
 "cells": [
  {
   "cell_type": "code",
   "execution_count": 1,
   "id": "ecce1993",
   "metadata": {},
   "outputs": [
    {
     "name": "stderr",
     "output_type": "stream",
     "text": [
      "/opt/conda/lib/python3.8/site-packages/apex/pyprof/__init__.py:5: FutureWarning: pyprof will be removed by the end of June, 2022\n",
      "  warnings.warn(\"pyprof will be removed by the end of June, 2022\", FutureWarning)\n"
     ]
    }
   ],
   "source": [
    "import pandas as pd\n",
    "from utils import bootstrap, youden"
   ]
  },
  {
   "cell_type": "code",
   "execution_count": null,
   "id": "e6eb28b3",
   "metadata": {},
   "outputs": [],
   "source": [
    "regression = pd.read_csv(r'EF_predictions_regression.csv')\n",
    "bootstrap_reg_new()\n",
    "\n"
   ]
  },
  {
   "cell_type": "code",
   "execution_count": 3,
   "id": "2f97557e",
   "metadata": {},
   "outputs": [
    {
     "name": "stderr",
     "output_type": "stream",
     "text": [
      "/opt/conda/lib/python3.8/site-packages/IPython/core/interactiveshell.py:3397: DtypeWarning: Columns (119,120,332,477,479,483,487,489,490,491,496,497,504,507,508,509,510) have mixed types.Specify dtype option on import or set low_memory=False.\n",
      "  exec(code_obj, self.user_global_ns, self.user_ns)\n"
     ]
    }
   ],
   "source": [
    "ef_35_binary = pd.read_csv(\n",
    "    '/workspace/Amey/wandb_runs_and_manifests/wandb_runs/lvef_ekg_wandb/EF_binary_35/data/test_predictions.csv')"
   ]
  },
  {
   "cell_type": "code",
   "execution_count": 11,
   "id": "62fcd9fc",
   "metadata": {},
   "outputs": [],
   "source": [
    "ef_35_binary = ef_35_binary[0:1000]"
   ]
  },
  {
   "cell_type": "code",
   "execution_count": 4,
   "id": "25a202d1",
   "metadata": {},
   "outputs": [
    {
     "name": "stderr",
     "output_type": "stream",
     "text": [
      "100%|██████████| 10000/10000 [01:07<00:00, 148.60it/s]"
     ]
    },
    {
     "name": "stdout",
     "output_type": "stream",
     "text": [
      "auc: 0.878 [0.871, 0.884]\n",
      "sensitivity: 0.437 [0.419, 0.454]\n",
      "specificity: 0.959 [0.956, 0.961]\n",
      "ppv: 0.628 [0.607, 0.648]\n",
      "npv: 0.914 [0.91, 0.918]\n"
     ]
    },
    {
     "name": "stderr",
     "output_type": "stream",
     "text": [
      "\n"
     ]
    },
    {
     "data": {
      "text/plain": [
       "([0.871, 0.884], [0.607, 0.648])"
      ]
     },
     "execution_count": 4,
     "metadata": {},
     "output_type": "execute_result"
    }
   ],
   "source": [
    "bootstrap(ef_35_binary.low_EF_binary, ef_35_binary.preds, 0.08) #0.08 is the Youden index of the EF < 35 classification model\n"
   ]
  },
  {
   "cell_type": "code",
   "execution_count": null,
   "id": "2386cd18",
   "metadata": {},
   "outputs": [],
   "source": [
    "## Regression and Binary Models - 6 bins for Classification and 6 equal Buckets for Regression\n",
    "\n",
    "predictions = pd.read_csv('EF_predictions_regression')\n",
    "labels_6 = ['0-1/6','1/6-1/3','1/3-1/2','1/2-2/3','2/3-5/6','5/6-1']\n",
    "\n",
    "predictions['EF_preds_bins'] = pd.cut(predictions.EF_preds, np.linspace(10,70,7), True, labels_6)\n",
    "data_reg = pd.DataFrame()\n",
    "\n",
    "for i in range(0,len(labels_6)):\n",
    "    if i == 0:\n",
    "        data_reg = pd.DataFrame(list(predictions[predictions.EF_preds_bins.isin([labels_6[i]])].EF_2D),\n",
    "                                  columns = ['True_EF'])\n",
    "        data_reg['quantile'] = labels_6[i]\n",
    "        \n",
    "    else:\n",
    "        temp = pd.DataFrame(data = list(predictions[predictions.EF_preds_bins.isin([labels_6[i]])].EF_2D),\n",
    "                            columns = ['True_EF'])\n",
    "        temp['quantile'] = labels_6[i]\n",
    "        data_reg = pd.concat([data_reg, temp], axis = 0)\n",
    "        \n",
    "data_reg['Model'] = 'Regression'\n",
    "\n",
    "ef_35_binary = pd.read_csv('EF_predictions_classification.csv')\n",
    "ef_35_binary.preds = 1- ef_35_binary.preds.apply(sigmoid)\n",
    "ef_35_binary['EF_preds_bins'] = pd.cut(ef_35_binary.preds,\n",
    "                                       np.quantile(ef_35_binary.preds,np.linspace(\n",
    "                                           0,1,7)), True, labels_6)\n",
    "data_binary = pd.DataFrame()\n",
    "\n",
    "quantile_order = labels_6\n",
    "\n",
    "for i in range(0,len(labels_6)):\n",
    "    if i == 0:\n",
    "        data_binary = pd.DataFrame(list(ef_35_binary[ef_35_binary.EF_preds_bins.isin([labels_6[i]])].EF_2D),\n",
    "                                  columns = ['True_EF'])\n",
    "        data_binary['quantile'] = labels_6[i]\n",
    "        \n",
    "    else:\n",
    "        temp = pd.DataFrame(data = list(ef_35_binary[ef_35_binary.EF_preds_bins.isin([labels_6[i]])].EF_2D),\n",
    "                            columns = ['True_EF'])\n",
    "        temp['quantile'] = labels_6[i]\n",
    "        data_binary = pd.concat([data_binary, temp], axis = 0)\n",
    "\n",
    "data_binary['Model'] = 'Classification'\n",
    "\n",
    "data = pd.concat([data_reg, data_binary])\n",
    "\n",
    "fig = plt.figure(figsize=(50,50))\n",
    "ax = plt.axes()\n",
    "ax.spines['top'].set_visible(False)\n",
    "ax.spines['top'].set_color('black')\n",
    "ax.spines['right'].set_visible(False)\n",
    "ax.spines['right'].set_color('black')\n",
    "# ax.spines['left'].set_visible(False)\n",
    "# ax.spines['bottom'].set_visible(False)\n",
    "\n",
    "plt.tick_params(axis='y', which='major', pad=30)  # Adjust the 'pad' value as needed\n",
    "plt.rcParams['axes.linewidth'] = 10\n",
    "\n",
    "\n",
    "\n",
    "sns.boxplot(data=data, x = 'quantile', y = 'True_EF',\n",
    "            hue = 'Model', order = quantile_order, width=0.8, showfliers=False, linewidth=10)\n",
    "\n",
    "ax.yaxis.set_label_coords(-.35, 0.5)\n",
    "\n",
    "# sns.set(font_scale = 11)\n",
    "\n",
    "# plt.plot([0,1],[0,100])\n",
    "\n",
    "plt.title('External Validation', size = 150, fontweight = 'bold')\n",
    "plt.xlabel('\\nPredicted EF Intervals /\\nProbability Quantiles', size = 130, fontweight = 'bold')\n",
    "plt.ylabel('True Left Ventricular \\nEjection Fraction', size = 130, rotation = 0, fontweight = 'bold')\n",
    "\n",
    "plt.legend(loc = 'lower right', fontsize = 110, frameon=False)\n",
    "\n",
    "plt.xticks([],fontsize=100)\n",
    "plt.yticks(np.linspace(20,80,4),fontsize=100, rotation=0)\n"
   ]
  },
  {
   "cell_type": "code",
   "execution_count": null,
   "id": "5c2e4a6b",
   "metadata": {},
   "outputs": [],
   "source": []
  },
  {
   "cell_type": "code",
   "execution_count": null,
   "id": "d8251337",
   "metadata": {},
   "outputs": [],
   "source": []
  }
 ],
 "metadata": {
  "kernelspec": {
   "display_name": "Python 3 (ipykernel)",
   "language": "python",
   "name": "python3"
  },
  "language_info": {
   "codemirror_mode": {
    "name": "ipython",
    "version": 3
   },
   "file_extension": ".py",
   "mimetype": "text/x-python",
   "name": "python",
   "nbconvert_exporter": "python",
   "pygments_lexer": "ipython3",
   "version": "3.8.13"
  }
 },
 "nbformat": 4,
 "nbformat_minor": 5
}
